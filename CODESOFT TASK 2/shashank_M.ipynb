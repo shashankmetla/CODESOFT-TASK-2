{
  "nbformat": 4,
  "nbformat_minor": 0,
  "metadata": {
    "colab": {
      "provenance": []
    },
    "kernelspec": {
      "name": "python3",
      "display_name": "Python 3"
    },
    "language_info": {
      "name": "python"
    }
  },
  "cells": [
    {
      "cell_type": "code",
      "execution_count": 12,
      "metadata": {
        "colab": {
          "base_uri": "https://localhost:8080/",
          "height": 928
        },
        "id": "N6Wku5UG4qu4",
        "outputId": "c1c80fd2-73fd-479c-ca6c-23ae7b469f08"
      },
      "outputs": [
        {
          "output_type": "stream",
          "name": "stdout",
          "text": [
            "Initial Data:\n",
            "    Genre  Duration  Rating\n",
            "0  Action     120.0     7.5\n",
            "1   Drama     150.0     8.0\n",
            "2  Action     110.0     7.0\n",
            "3    None      95.0     6.5\n",
            "4  Comedy       NaN     7.2\n",
            "5   Drama     140.0     8.1\n",
            "\n",
            "Data After Handling Missing Values:\n",
            "     Genre  Duration  Rating\n",
            "0   Action     120.0     7.5\n",
            "1    Drama     150.0     8.0\n",
            "2   Action     110.0     7.0\n",
            "3  Missing      95.0     6.5\n",
            "4   Comedy     120.0     7.2\n",
            "5    Drama     140.0     8.1\n"
          ]
        },
        {
          "output_type": "display_data",
          "data": {
            "text/plain": [
              "<Figure size 1000x600 with 1 Axes>"
            ],
            "image/png": "[encoded data removed]"
          },
          "metadata": {}
        },
        {
          "output_type": "stream",
          "name": "stdout",
          "text": [
            "\n",
            "Predictions vs Actual Values:\n",
            "Actual: 7.50, Predicted: 7.04\n",
            "Actual: 8.00, Predicted: 7.86\n"
          ]
        }
      ],
      "source": [
        "# Import necessary libraries\n",
        "import pandas as pd\n",
        "import numpy as np\n",
        "import matplotlib.pyplot as plt\n",
        "from sklearn.impute import SimpleImputer\n",
        "from sklearn.preprocessing import StandardScaler, OneHotEncoder\n",
        "from sklearn.compose import ColumnTransformer\n",
        "from sklearn.pipeline import Pipeline\n",
        "from sklearn.model_selection import train_test_split\n",
        "from sklearn.ensemble import RandomForestRegressor\n",
        "\n",
        "# Sample DataFrame creation (Replace this with loading your dataset)\n",
        "data = {\n",
        "    'Genre': ['Action', 'Drama', 'Action', None, 'Comedy', 'Drama'],\n",
        "    'Duration': [120, 150, 110, 95, None, 140],\n",
        "    'Rating': [7.5, 8.0, 7.0, 6.5, 7.2, 8.1]\n",
        "}\n",
        "movies_df = pd.DataFrame(data)\n",
        "\n",
        "# Display the initial data\n",
        "print(\"Initial Data:\")\n",
        "print(movies_df)\n",
        "\n",
        "# Handling Missing Values in 'Genre'\n",
        "# Replace missing values with 'Missing' directly\n",
        "movies_df['Genre'] = movies_df['Genre'].fillna('Missing')\n",
        "\n",
        "# Handling Missing Values in 'Duration'\n",
        "movies_df['Duration'] = movies_df['Duration'].fillna(movies_df['Duration'].median())\n",
        "\n",
        "# Display the data after handling missing values\n",
        "print(\"\\nData After Handling Missing Values:\")\n",
        "print(movies_df)\n",
        "\n",
        "# Features and target variable\n",
        "X = movies_df[['Genre', 'Duration']]\n",
        "y = movies_df['Rating']\n",
        "\n",
        "# Preprocessing pipeline\n",
        "preprocessor = ColumnTransformer(\n",
        "    transformers=[\n",
        "        ('genre', OneHotEncoder(handle_unknown='ignore'), ['Genre']),\n",
        "        ('duration', StandardScaler(), ['Duration'])\n",
        "    ])\n",
        "\n",
        "# Full pipeline with model\n",
        "pipeline = Pipeline(steps=[\n",
        "    ('preprocessor', preprocessor),\n",
        "    ('model', RandomForestRegressor())\n",
        "])\n",
        "\n",
        "# Split data into training and testing sets\n",
        "X_train, X_test, y_train, y_test = train_test_split(X, y, test_size=0.2, random_state=42)\n",
        "\n",
        "# Train the model\n",
        "pipeline.fit(X_train, y_train)\n",
        "\n",
        "# Make predictions\n",
        "y_pred = pipeline.predict(X_test)\n",
        "\n",
        "# Plotting results\n",
        "plt.figure(figsize=(10, 6))\n",
        "plt.scatter(y_test, y_pred, color='blue')\n",
        "plt.xlabel('Actual Ratings')\n",
        "plt.ylabel('Predicted Ratings')\n",
        "plt.title('Actual vs Predicted Ratings')\n",
        "plt.grid(True)\n",
        "plt.show()\n",
        "\n",
        "# Print out the predictions and actual values for comparison\n",
        "print(\"\\nPredictions vs Actual Values:\")\n",
        "for actual, predicted in zip(y_test, y_pred):\n",
        "    print(f'Actual: {actual:.2f}, Predicted: {predicted:.2f}')\n"
      ]
    },
    {
      "cell_type": "code",
      "source": [],
      "metadata": {
        "id": "b-CYj8oO5fdV"
      },
      "execution_count": null,
      "outputs": []
    }
  ]
}